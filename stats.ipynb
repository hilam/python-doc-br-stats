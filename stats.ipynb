{
 "cells": [
  {
   "cell_type": "code",
   "execution_count": 11,
   "metadata": {},
   "outputs": [],
   "source": [
    "import json\n",
    "from datetime import datetime\n",
    "from collections import defaultdict\n",
    "\n",
    "import matplotlib.pyplot as plt\n",
    "import matplotlib.ticker as ticker\n",
    "\n",
    "import helper\n",
    "\n",
    "%matplotlib inline\n",
    "plt.rcdefaults()\n",
    "plt.rcParams.update({'font.size': 14})\n",
    "plt.style.use('seaborn-whitegrid')"
   ]
  },
  {
   "cell_type": "code",
   "execution_count": 2,
   "metadata": {},
   "outputs": [],
   "source": [
    "# Request all resources available on Transifex\n",
    "resources = helper.transifex_api(\"resources/\")\n",
    "resources = [resource[\"slug\"] for resource in resources]"
   ]
  },
  {
   "cell_type": "code",
   "execution_count": 33,
   "metadata": {},
   "outputs": [],
   "source": [
    "# Retrieve statistics from every resource\n",
    "# TODO: We'd benefit from asyncio here. It's a bit slow and\n",
    "# be able to run concurrent request would help make it faster.\n",
    "\n",
    "fields = [\n",
    "    \"reviewed\",\n",
    "    \"translated_entities\",\n",
    "    \"translated_words\",\n",
    "    \"untranslated_entities\",\n",
    "    \"untranslated_words\",\n",
    "]\n",
    "stats = defaultdict(lambda: {field: 0 for field in fields})\n",
    "for resource in resources:\n",
    "    stat = helper.transifex_api(f\"resource/{resource}/stats/pt_BR/\")\n",
    "    \n",
    "    # Group stats considering the first part of slug.\n",
    "    # Transform \"c-api--abstract\" and \"c-api--allocation\" into \"c-api\".\n",
    "    resource = resource.split('--')[0]\n",
    "    \n",
    "    for field in fields:\n",
    "        stats[resource][field] += stat[field]"
   ]
  },
  {
   "cell_type": "code",
   "execution_count": 39,
   "metadata": {},
   "outputs": [],
   "source": [
    "stats[\"glossary\"] = stats[\"glossary_\"]\n",
    "del stats[\"glossary_\"]\n",
    "stats = {key: stats[key] for key in sorted(stats.keys(), reverse=True)}"
   ]
  },
  {
   "cell_type": "code",
   "execution_count": 34,
   "metadata": {},
   "outputs": [],
   "source": [
    "today = datetime.now().strftime(\"%Y_%m_%d\")\n",
    "filename = f\"data/{today}.json\""
   ]
  },
  {
   "cell_type": "code",
   "execution_count": 35,
   "metadata": {},
   "outputs": [],
   "source": [
    "with open(filename, mode=\"w\") as stat_file:\n",
    "    stat_file.write(json.dumps(stats))"
   ]
  },
  {
   "cell_type": "code",
   "execution_count": null,
   "metadata": {},
   "outputs": [],
   "source": []
  }
 ],
 "metadata": {
  "kernelspec": {
   "display_name": "Python 3",
   "language": "python",
   "name": "python3"
  },
  "language_info": {
   "codemirror_mode": {
    "name": "ipython",
    "version": 3
   },
   "file_extension": ".py",
   "mimetype": "text/x-python",
   "name": "python",
   "nbconvert_exporter": "python",
   "pygments_lexer": "ipython3",
   "version": "3.7.3"
  }
 },
 "nbformat": 4,
 "nbformat_minor": 2
}
